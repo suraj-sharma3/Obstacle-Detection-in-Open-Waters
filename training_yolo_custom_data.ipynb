{
 "cells": [
  {
   "cell_type": "markdown",
   "metadata": {},
   "source": [
    "### Training YOLO on custom data with Roboflow : https://blog.roboflow.com/yolov11-how-to-train-custom-data/\n",
    "\n",
    "### https://github.com/roboflow/notebooks/blob/main/notebooks/train-yolo11-object-detection-on-custom-dataset.ipynb\n",
    "\n",
    "### https://medium.com/@batuhansenerr/yolo11-custom-object-detection-2116db587f3b"
   ]
  },
  {
   "cell_type": "markdown",
   "metadata": {},
   "source": []
  }
 ],
 "metadata": {
  "kernelspec": {
   "display_name": "Python 3",
   "language": "python",
   "name": "python3"
  },
  "language_info": {
   "name": "python",
   "version": "3.11.3"
  }
 },
 "nbformat": 4,
 "nbformat_minor": 2
}
