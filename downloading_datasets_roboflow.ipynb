{
 "cells": [
  {
   "cell_type": "code",
   "execution_count": 1,
   "metadata": {},
   "outputs": [
    {
     "name": "stdout",
     "output_type": "stream",
     "text": [
      "Requirement already satisfied: roboflow in c:\\users\\omolp094\\appdata\\local\\programs\\python\\python311\\lib\\site-packages (1.1.19)\n",
      "Collecting certifi==2023.7.22 (from roboflow)\n",
      "  Downloading certifi-2023.7.22-py3-none-any.whl.metadata (2.2 kB)\n",
      "Collecting chardet==4.0.0 (from roboflow)\n",
      "  Using cached chardet-4.0.0-py2.py3-none-any.whl.metadata (3.5 kB)\n",
      "Requirement already satisfied: cycler==0.10.0 in c:\\users\\omolp094\\appdata\\local\\programs\\python\\python311\\lib\\site-packages (from roboflow) (0.10.0)\n",
      "Collecting idna==2.10 (from roboflow)\n",
      "  Using cached idna-2.10-py2.py3-none-any.whl.metadata (9.1 kB)\n",
      "Requirement already satisfied: kiwisolver>=1.3.1 in c:\\users\\omolp094\\appdata\\local\\programs\\python\\python311\\lib\\site-packages (from roboflow) (1.4.4)\n",
      "Requirement already satisfied: matplotlib in c:\\users\\omolp094\\appdata\\local\\programs\\python\\python311\\lib\\site-packages (from roboflow) (3.8.3)\n",
      "Requirement already satisfied: numpy>=1.18.5 in c:\\users\\omolp094\\appdata\\local\\programs\\python\\python311\\lib\\site-packages (from roboflow) (1.24.3)\n",
      "Collecting opencv-python-headless==4.8.0.74 (from roboflow)\n",
      "  Downloading opencv_python_headless-4.8.0.74-cp37-abi3-win_amd64.whl.metadata (19 kB)\n",
      "Requirement already satisfied: Pillow>=7.1.2 in c:\\users\\omolp094\\appdata\\local\\programs\\python\\python311\\lib\\site-packages (from roboflow) (9.5.0)\n",
      "Requirement already satisfied: python-dateutil in c:\\users\\omolp094\\appdata\\local\\programs\\python\\python311\\lib\\site-packages (from roboflow) (2.8.2)\n",
      "Requirement already satisfied: python-dotenv in c:\\users\\omolp094\\appdata\\local\\programs\\python\\python311\\lib\\site-packages (from roboflow) (1.0.0)\n",
      "Requirement already satisfied: requests in c:\\users\\omolp094\\appdata\\local\\programs\\python\\python311\\lib\\site-packages (from roboflow) (2.32.3)\n",
      "Requirement already satisfied: six in c:\\users\\omolp094\\appdata\\local\\programs\\python\\python311\\lib\\site-packages (from roboflow) (1.16.0)\n",
      "Requirement already satisfied: supervision in c:\\users\\omolp094\\appdata\\local\\programs\\python\\python311\\lib\\site-packages (from roboflow) (0.25.1)\n",
      "Requirement already satisfied: urllib3>=1.26.6 in c:\\users\\omolp094\\appdata\\local\\programs\\python\\python311\\lib\\site-packages (from roboflow) (1.26.20)\n",
      "Requirement already satisfied: tqdm>=4.41.0 in c:\\users\\omolp094\\appdata\\local\\programs\\python\\python311\\lib\\site-packages (from roboflow) (4.67.0)\n",
      "Requirement already satisfied: PyYAML>=5.3.1 in c:\\users\\omolp094\\appdata\\local\\programs\\python\\python311\\lib\\site-packages (from roboflow) (6.0.1)\n",
      "Requirement already satisfied: requests-toolbelt in c:\\users\\omolp094\\appdata\\local\\programs\\python\\python311\\lib\\site-packages (from roboflow) (1.0.0)\n",
      "Requirement already satisfied: python-magic in c:\\users\\omolp094\\appdata\\local\\programs\\python\\python311\\lib\\site-packages (from roboflow) (0.4.27)\n",
      "Requirement already satisfied: colorama in c:\\users\\omolp094\\appdata\\roaming\\python\\python311\\site-packages (from tqdm>=4.41.0->roboflow) (0.4.6)\n",
      "Requirement already satisfied: contourpy>=1.0.1 in c:\\users\\omolp094\\appdata\\local\\programs\\python\\python311\\lib\\site-packages (from matplotlib->roboflow) (1.0.7)\n",
      "Requirement already satisfied: fonttools>=4.22.0 in c:\\users\\omolp094\\appdata\\local\\programs\\python\\python311\\lib\\site-packages (from matplotlib->roboflow) (4.39.4)\n",
      "Requirement already satisfied: packaging>=20.0 in c:\\users\\omolp094\\appdata\\local\\programs\\python\\python311\\lib\\site-packages (from matplotlib->roboflow) (23.2)\n",
      "Requirement already satisfied: pyparsing>=2.3.1 in c:\\users\\omolp094\\appdata\\local\\programs\\python\\python311\\lib\\site-packages (from matplotlib->roboflow) (3.0.9)\n",
      "Requirement already satisfied: charset-normalizer<4,>=2 in c:\\users\\omolp094\\appdata\\local\\programs\\python\\python311\\lib\\site-packages (from requests->roboflow) (3.3.2)\n",
      "Requirement already satisfied: defusedxml<0.8.0,>=0.7.1 in c:\\users\\omolp094\\appdata\\local\\programs\\python\\python311\\lib\\site-packages (from supervision->roboflow) (0.7.1)\n",
      "Requirement already satisfied: opencv-python>=4.5.5.64 in c:\\users\\omolp094\\appdata\\local\\programs\\python\\python311\\lib\\site-packages (from supervision->roboflow) (4.10.0.84)\n",
      "Requirement already satisfied: scipy<2.0.0,>=1.10.0 in c:\\users\\omolp094\\appdata\\local\\programs\\python\\python311\\lib\\site-packages (from supervision->roboflow) (1.13.1)\n",
      "Downloading certifi-2023.7.22-py3-none-any.whl (158 kB)\n",
      "   ---------------------------------------- 0.0/158.3 kB ? eta -:--:--\n",
      "   ---------------------------------------- 158.3/158.3 kB 9.3 MB/s eta 0:00:00\n",
      "Using cached chardet-4.0.0-py2.py3-none-any.whl (178 kB)\n",
      "Using cached idna-2.10-py2.py3-none-any.whl (58 kB)\n",
      "Downloading opencv_python_headless-4.8.0.74-cp37-abi3-win_amd64.whl (38.0 MB)\n",
      "   ---------------------------------------- 0.0/38.0 MB ? eta -:--:--\n",
      "   ---------------------------------------- 0.3/38.0 MB 10.2 MB/s eta 0:00:04\n",
      "    --------------------------------------- 0.7/38.0 MB 9.3 MB/s eta 0:00:04\n",
      "    --------------------------------------- 0.8/38.0 MB 6.5 MB/s eta 0:00:06\n",
      "   - -------------------------------------- 1.3/38.0 MB 7.4 MB/s eta 0:00:05\n",
      "   - -------------------------------------- 1.8/38.0 MB 8.1 MB/s eta 0:00:05\n",
      "   -- ------------------------------------- 2.0/38.0 MB 8.3 MB/s eta 0:00:05\n",
      "   -- ------------------------------------- 2.6/38.0 MB 8.2 MB/s eta 0:00:05\n",
      "   --- ------------------------------------ 3.1/38.0 MB 8.6 MB/s eta 0:00:05\n",
      "   --- ------------------------------------ 3.5/38.0 MB 8.7 MB/s eta 0:00:04\n",
      "   --- ------------------------------------ 3.6/38.0 MB 8.2 MB/s eta 0:00:05\n",
      "   ---- ----------------------------------- 4.4/38.0 MB 9.1 MB/s eta 0:00:04\n",
      "   ----- ---------------------------------- 5.0/38.0 MB 9.1 MB/s eta 0:00:04\n",
      "   ----- ---------------------------------- 5.5/38.0 MB 9.5 MB/s eta 0:00:04\n",
      "   ------ --------------------------------- 6.0/38.0 MB 9.6 MB/s eta 0:00:04\n",
      "   ------ --------------------------------- 6.5/38.0 MB 9.7 MB/s eta 0:00:04\n",
      "   ------- -------------------------------- 7.0/38.0 MB 9.7 MB/s eta 0:00:04\n",
      "   ------- -------------------------------- 7.6/38.0 MB 9.9 MB/s eta 0:00:04\n",
      "   -------- ------------------------------- 7.8/38.0 MB 9.6 MB/s eta 0:00:04\n",
      "   -------- ------------------------------- 8.5/38.0 MB 9.9 MB/s eta 0:00:03\n",
      "   --------- ------------------------------ 9.1/38.0 MB 10.0 MB/s eta 0:00:03\n",
      "   ---------- ----------------------------- 9.6/38.0 MB 10.0 MB/s eta 0:00:03\n",
      "   ---------- ----------------------------- 9.8/38.0 MB 9.7 MB/s eta 0:00:03\n",
      "   ----------- ---------------------------- 10.6/38.0 MB 10.1 MB/s eta 0:00:03\n",
      "   ----------- ---------------------------- 11.1/38.0 MB 10.7 MB/s eta 0:00:03\n",
      "   ------------ --------------------------- 11.6/38.0 MB 10.7 MB/s eta 0:00:03\n",
      "   ------------ --------------------------- 12.1/38.0 MB 10.7 MB/s eta 0:00:03\n",
      "   ------------- -------------------------- 12.7/38.0 MB 11.1 MB/s eta 0:00:03\n",
      "   ------------- -------------------------- 13.2/38.0 MB 10.9 MB/s eta 0:00:03\n",
      "   -------------- ------------------------- 13.8/38.0 MB 11.1 MB/s eta 0:00:03\n",
      "   -------------- ------------------------- 14.0/38.0 MB 11.5 MB/s eta 0:00:03\n",
      "   --------------- ------------------------ 14.8/38.0 MB 11.3 MB/s eta 0:00:03\n",
      "   ---------------- ----------------------- 15.3/38.0 MB 11.3 MB/s eta 0:00:03\n",
      "   ---------------- ----------------------- 15.6/38.0 MB 11.1 MB/s eta 0:00:03\n",
      "   ---------------- ----------------------- 15.7/38.0 MB 11.1 MB/s eta 0:00:03\n",
      "   ---------------- ----------------------- 15.7/38.0 MB 11.1 MB/s eta 0:00:03\n",
      "   ----------------- ---------------------- 16.6/38.0 MB 10.4 MB/s eta 0:00:03\n",
      "   ----------------- ---------------------- 16.7/38.0 MB 10.1 MB/s eta 0:00:03\n",
      "   ------------------ --------------------- 17.4/38.0 MB 10.4 MB/s eta 0:00:02\n",
      "   ------------------ --------------------- 17.8/38.0 MB 10.2 MB/s eta 0:00:02\n",
      "   ------------------- -------------------- 18.4/38.0 MB 10.2 MB/s eta 0:00:02\n",
      "   ------------------- -------------------- 18.6/38.0 MB 10.2 MB/s eta 0:00:02\n",
      "   ------------------- -------------------- 18.6/38.0 MB 10.2 MB/s eta 0:00:02\n",
      "   -------------------- ------------------- 19.1/38.0 MB 9.5 MB/s eta 0:00:02\n",
      "   -------------------- ------------------- 19.3/38.0 MB 9.4 MB/s eta 0:00:02\n",
      "   -------------------- ------------------- 19.8/38.0 MB 9.4 MB/s eta 0:00:02\n",
      "   --------------------- ------------------ 20.1/38.0 MB 9.4 MB/s eta 0:00:02\n",
      "   --------------------- ------------------ 20.4/38.0 MB 9.0 MB/s eta 0:00:02\n",
      "   --------------------- ------------------ 20.8/38.0 MB 8.8 MB/s eta 0:00:02\n",
      "   ---------------------- ----------------- 21.0/38.0 MB 8.7 MB/s eta 0:00:02\n",
      "   ---------------------- ----------------- 21.2/38.0 MB 8.5 MB/s eta 0:00:02\n",
      "   ---------------------- ----------------- 21.5/38.0 MB 8.4 MB/s eta 0:00:02\n",
      "   ---------------------- ----------------- 21.6/38.0 MB 8.2 MB/s eta 0:00:02\n",
      "   ----------------------- ---------------- 21.9/38.0 MB 8.0 MB/s eta 0:00:03\n",
      "   ----------------------- ---------------- 22.2/38.0 MB 7.9 MB/s eta 0:00:02\n",
      "   ----------------------- ---------------- 22.4/38.0 MB 7.7 MB/s eta 0:00:03\n",
      "   ----------------------- ---------------- 22.7/38.0 MB 7.5 MB/s eta 0:00:03\n",
      "   ------------------------ --------------- 22.9/38.0 MB 7.4 MB/s eta 0:00:03\n",
      "   ------------------------ --------------- 23.2/38.0 MB 7.3 MB/s eta 0:00:03\n",
      "   ------------------------ --------------- 23.3/38.0 MB 7.2 MB/s eta 0:00:03\n",
      "   ------------------------ --------------- 23.7/38.0 MB 7.0 MB/s eta 0:00:03\n",
      "   ------------------------- -------------- 24.0/38.0 MB 7.0 MB/s eta 0:00:03\n",
      "   ------------------------- -------------- 24.2/38.0 MB 6.8 MB/s eta 0:00:03\n",
      "   ------------------------- -------------- 24.5/38.0 MB 6.8 MB/s eta 0:00:02\n",
      "   -------------------------- ------------- 24.7/38.0 MB 6.6 MB/s eta 0:00:03\n",
      "   -------------------------- ------------- 24.9/38.0 MB 6.5 MB/s eta 0:00:03\n",
      "   -------------------------- ------------- 25.3/38.0 MB 6.5 MB/s eta 0:00:02\n",
      "   -------------------------- ------------- 25.5/38.0 MB 6.4 MB/s eta 0:00:02\n",
      "   --------------------------- ------------ 26.1/38.0 MB 6.7 MB/s eta 0:00:02\n",
      "   --------------------------- ------------ 26.5/38.0 MB 6.7 MB/s eta 0:00:02\n",
      "   ---------------------------- ----------- 27.0/38.0 MB 6.7 MB/s eta 0:00:02\n",
      "   ---------------------------- ----------- 27.4/38.0 MB 6.6 MB/s eta 0:00:02\n",
      "   ----------------------------- ---------- 28.0/38.0 MB 6.6 MB/s eta 0:00:02\n",
      "   ----------------------------- ---------- 28.4/38.0 MB 6.6 MB/s eta 0:00:02\n",
      "   ------------------------------ --------- 28.9/38.0 MB 7.1 MB/s eta 0:00:02\n",
      "   ------------------------------- -------- 29.4/38.0 MB 6.9 MB/s eta 0:00:02\n",
      "   ------------------------------- -------- 30.0/38.0 MB 7.1 MB/s eta 0:00:02\n",
      "   -------------------------------- ------- 30.4/38.0 MB 7.3 MB/s eta 0:00:02\n",
      "   -------------------------------- ------- 30.9/38.0 MB 7.3 MB/s eta 0:00:01\n",
      "   --------------------------------- ------ 31.6/38.0 MB 7.9 MB/s eta 0:00:01\n",
      "   --------------------------------- ------ 31.9/38.0 MB 8.1 MB/s eta 0:00:01\n",
      "   ---------------------------------- ----- 32.4/38.0 MB 8.2 MB/s eta 0:00:01\n",
      "   ---------------------------------- ----- 32.9/38.0 MB 8.5 MB/s eta 0:00:01\n",
      "   ----------------------------------- ---- 33.3/38.0 MB 8.8 MB/s eta 0:00:01\n",
      "   ----------------------------------- ---- 34.0/38.0 MB 9.4 MB/s eta 0:00:01\n",
      "   ------------------------------------ --- 34.2/38.0 MB 9.2 MB/s eta 0:00:01\n",
      "   ------------------------------------ --- 34.9/38.0 MB 10.1 MB/s eta 0:00:01\n",
      "   ------------------------------------- -- 35.5/38.0 MB 10.6 MB/s eta 0:00:01\n",
      "   ------------------------------------- -- 35.9/38.0 MB 10.6 MB/s eta 0:00:01\n",
      "   -------------------------------------- - 36.4/38.0 MB 10.7 MB/s eta 0:00:01\n",
      "   ---------------------------------------  37.0/38.0 MB 10.7 MB/s eta 0:00:01\n",
      "   ---------------------------------------  37.4/38.0 MB 10.7 MB/s eta 0:00:01\n",
      "   ---------------------------------------  37.9/38.0 MB 10.7 MB/s eta 0:00:01\n",
      "   ---------------------------------------  37.9/38.0 MB 10.6 MB/s eta 0:00:01\n",
      "   ---------------------------------------  37.9/38.0 MB 10.6 MB/s eta 0:00:01\n",
      "   ---------------------------------------  37.9/38.0 MB 10.6 MB/s eta 0:00:01\n",
      "   ---------------------------------------- 38.0/38.0 MB 9.1 MB/s eta 0:00:00\n",
      "Installing collected packages: opencv-python-headless, idna, chardet, certifi\n"
     ]
    },
    {
     "name": "stderr",
     "output_type": "stream",
     "text": [
      "DEPRECATION: Loading egg at c:\\users\\omolp094\\appdata\\local\\programs\\python\\python311\\lib\\site-packages\\pybluez-0.30-py3.11-win-amd64.egg is deprecated. pip 24.3 will enforce this behaviour change. A possible replacement is to use pip for package installation. Discussion can be found at https://github.com/pypa/pip/issues/12330\n",
      "DEPRECATION: Loading egg at c:\\users\\omolp094\\appdata\\local\\programs\\python\\python311\\lib\\site-packages\\sleeppy-0.2.21-py3.11.egg is deprecated. pip 24.3 will enforce this behaviour change. A possible replacement is to use pip for package installation. Discussion can be found at https://github.com/pypa/pip/issues/12330\n",
      "WARNING: The candidate selected for download or install is a yanked version: 'opencv-python-headless' candidate (version 4.8.0.74 at https://files.pythonhosted.org/packages/60/e7/a6dedca760db7a4686fd3b6053487ad4ad4d8f0591295dc8a9cf35269c42/opencv_python_headless-4.8.0.74-cp37-abi3-win_amd64.whl (from https://pypi.org/simple/opencv-python-headless/) (requires-python:>=3.6))\n",
      "Reason for being yanked: deprecated, use 4.8.0.76\n",
      "ERROR: Could not install packages due to an OSError: [WinError 5] Access is denied: 'C:\\\\Users\\\\OMOLP094\\\\AppData\\\\Local\\\\Programs\\\\Python\\\\Python311\\\\Lib\\\\site-packages\\\\cv2\\\\cv2.pyd'\n",
      "Consider using the `--user` option or check the permissions.\n",
      "\n",
      "\n",
      "[notice] A new release of pip is available: 24.1.2 -> 24.3.1\n",
      "[notice] To update, run: python.exe -m pip install --upgrade pip\n"
     ]
    }
   ],
   "source": [
    "!pip install roboflow"
   ]
  },
  {
   "cell_type": "code",
   "execution_count": 5,
   "metadata": {},
   "outputs": [
    {
     "name": "stdout",
     "output_type": "stream",
     "text": [
      "loading Roboflow workspace...\n",
      "loading Roboflow project...\n"
     ]
    },
    {
     "name": "stderr",
     "output_type": "stream",
     "text": [
      "Downloading Dataset Version Zip in SeaDronesSee-ODV2-11 to yolov11:: 100%|██████████| 5217770/5217770 [09:46<00:00, 8895.64it/s] "
     ]
    },
    {
     "name": "stdout",
     "output_type": "stream",
     "text": [
      "\n"
     ]
    },
    {
     "name": "stderr",
     "output_type": "stream",
     "text": [
      "\n",
      "Extracting Dataset Version Zip to SeaDronesSee-ODV2-11 in yolov11:: 100%|██████████| 62884/62884 [04:29<00:00, 233.51it/s]\n"
     ]
    }
   ],
   "source": [
    "from roboflow import Roboflow\n",
    "rf = Roboflow(api_key=\"31LzRIsGrdtRzoGuITTN\")\n",
    "project = rf.workspace(\"ntnu-2wibj\").project(\"seadronessee-odv2\")\n",
    "version = project.version(11)\n",
    "dataset = version.download(\"yolov11\")\n",
    "                "
   ]
  },
  {
   "cell_type": "code",
   "execution_count": null,
   "metadata": {},
   "outputs": [],
   "source": []
  }
 ],
 "metadata": {
  "kernelspec": {
   "display_name": "Python 3",
   "language": "python",
   "name": "python3"
  },
  "language_info": {
   "codemirror_mode": {
    "name": "ipython",
    "version": 3
   },
   "file_extension": ".py",
   "mimetype": "text/x-python",
   "name": "python",
   "nbconvert_exporter": "python",
   "pygments_lexer": "ipython3",
   "version": "3.11.3"
  }
 },
 "nbformat": 4,
 "nbformat_minor": 2
}
