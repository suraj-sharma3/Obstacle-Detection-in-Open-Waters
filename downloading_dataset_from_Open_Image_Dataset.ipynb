{
 "cells": [
  {
   "cell_type": "markdown",
   "metadata": {},
   "source": [
    "### Downloading Datasets from Open Image Dataset using FiftyOne Library\n",
    "\n",
    "- Imp Links : https://storage.googleapis.com/openimages/web/download_v7.html#download-fiftyone\n",
    "- https://docs.voxel51.com/dataset_zoo/api.html"
   ]
  },
  {
   "cell_type": "markdown",
   "metadata": {},
   "source": [
    "### Documentation : https://docs.voxel51.com/getting_started/install.html"
   ]
  },
  {
   "cell_type": "code",
   "execution_count": 6,
   "metadata": {},
   "outputs": [
    {
     "name": "stdout",
     "output_type": "stream",
     "text": [
      "Collecting fiftyone\n",
      "  Using cached fiftyone-1.2.0-py3-none-any.whl.metadata (12 kB)\n",
      "Requirement already satisfied: aiofiles in c:\\users\\omolp094\\appdata\\local\\programs\\python\\python311\\lib\\site-packages (from fiftyone) (23.1.0)\n",
      "Collecting argcomplete (from fiftyone)\n",
      "  Using cached argcomplete-3.5.2-py3-none-any.whl.metadata (16 kB)\n",
      "Requirement already satisfied: beautifulsoup4 in c:\\users\\omolp094\\appdata\\local\\programs\\python\\python311\\lib\\site-packages (from fiftyone) (4.12.3)\n",
      "Requirement already satisfied: boto3 in c:\\users\\omolp094\\appdata\\local\\programs\\python\\python311\\lib\\site-packages (from fiftyone) (1.28.68)\n",
      "Requirement already satisfied: cachetools in c:\\users\\omolp094\\appdata\\local\\programs\\python\\python311\\lib\\site-packages (from fiftyone) (5.3.1)\n",
      "Collecting dacite<1.8.0,>=1.6.0 (from fiftyone)\n",
      "  Using cached dacite-1.7.0-py3-none-any.whl.metadata (14 kB)\n",
      "Requirement already satisfied: Deprecated in c:\\users\\omolp094\\appdata\\local\\programs\\python\\python311\\lib\\site-packages (from fiftyone) (1.2.14)\n",
      "Requirement already satisfied: ftfy in c:\\users\\omolp094\\appdata\\local\\programs\\python\\python311\\lib\\site-packages (from fiftyone) (6.1.1)\n",
      "Collecting humanize (from fiftyone)\n",
      "  Using cached humanize-4.11.0-py3-none-any.whl.metadata (7.8 kB)\n",
      "Collecting hypercorn>=0.13.2 (from fiftyone)\n",
      "  Using cached hypercorn-0.17.3-py3-none-any.whl.metadata (5.4 kB)\n",
      "Requirement already satisfied: Jinja2>=3 in c:\\users\\omolp094\\appdata\\local\\programs\\python\\python311\\lib\\site-packages (from fiftyone) (3.1.2)\n",
      "Requirement already satisfied: kaleido!=0.2.1.post1 in c:\\users\\omolp094\\appdata\\local\\programs\\python\\python311\\lib\\site-packages (from fiftyone) (0.2.1)\n",
      "Requirement already satisfied: matplotlib in c:\\users\\omolp094\\appdata\\local\\programs\\python\\python311\\lib\\site-packages (from fiftyone) (3.8.3)\n",
      "Collecting mongoengine~=0.29.1 (from fiftyone)\n",
      "  Using cached mongoengine-0.29.1-py3-none-any.whl.metadata (6.7 kB)\n",
      "Collecting motor~=3.6.0 (from fiftyone)\n",
      "  Using cached motor-3.6.0-py3-none-any.whl.metadata (21 kB)\n",
      "Requirement already satisfied: numpy in c:\\users\\omolp094\\appdata\\local\\programs\\python\\python311\\lib\\site-packages (from fiftyone) (1.24.3)\n",
      "Requirement already satisfied: packaging in c:\\users\\omolp094\\appdata\\local\\programs\\python\\python311\\lib\\site-packages (from fiftyone) (23.2)\n",
      "Requirement already satisfied: pandas in c:\\users\\omolp094\\appdata\\local\\programs\\python\\python311\\lib\\site-packages (from fiftyone) (2.0.2)\n",
      "Requirement already satisfied: Pillow>=6.2 in c:\\users\\omolp094\\appdata\\local\\programs\\python\\python311\\lib\\site-packages (from fiftyone) (9.5.0)\n",
      "Requirement already satisfied: plotly>=4.14 in c:\\users\\omolp094\\appdata\\local\\programs\\python\\python311\\lib\\site-packages (from fiftyone) (5.14.1)\n",
      "Requirement already satisfied: pprintpp in c:\\users\\omolp094\\appdata\\local\\programs\\python\\python311\\lib\\site-packages (from fiftyone) (0.4.0)\n",
      "Requirement already satisfied: psutil in c:\\users\\omolp094\\appdata\\local\\programs\\python\\python311\\lib\\site-packages (from fiftyone) (5.9.8)\n",
      "Collecting pymongo~=4.9.2 (from fiftyone)\n",
      "  Using cached pymongo-4.9.2-cp311-cp311-win_amd64.whl.metadata (22 kB)\n",
      "Requirement already satisfied: pytz in c:\\users\\omolp094\\appdata\\local\\programs\\python\\python311\\lib\\site-packages (from fiftyone) (2023.3)\n",
      "Requirement already satisfied: PyYAML in c:\\users\\omolp094\\appdata\\local\\programs\\python\\python311\\lib\\site-packages (from fiftyone) (6.0.1)\n",
      "Requirement already satisfied: regex in c:\\users\\omolp094\\appdata\\local\\programs\\python\\python311\\lib\\site-packages (from fiftyone) (2023.12.25)\n",
      "Requirement already satisfied: retrying in c:\\users\\omolp094\\appdata\\local\\programs\\python\\python311\\lib\\site-packages (from fiftyone) (1.3.4)\n",
      "Requirement already satisfied: rtree in c:\\users\\omolp094\\appdata\\local\\programs\\python\\python311\\lib\\site-packages (from fiftyone) (1.3.0)\n",
      "Requirement already satisfied: scikit-learn in c:\\users\\omolp094\\appdata\\local\\programs\\python\\python311\\lib\\site-packages (from fiftyone) (1.2.2)\n",
      "Requirement already satisfied: scikit-image in c:\\users\\omolp094\\appdata\\local\\programs\\python\\python311\\lib\\site-packages (from fiftyone) (0.21.0)\n",
      "Requirement already satisfied: scipy in c:\\users\\omolp094\\appdata\\local\\programs\\python\\python311\\lib\\site-packages (from fiftyone) (1.13.1)\n",
      "Requirement already satisfied: setuptools in c:\\users\\omolp094\\appdata\\local\\programs\\python\\python311\\lib\\site-packages (from fiftyone) (70.1.1)\n",
      "Requirement already satisfied: sseclient-py<2,>=1.7.2 in c:\\users\\omolp094\\appdata\\local\\programs\\python\\python311\\lib\\site-packages (from fiftyone) (1.8.0)\n",
      "Collecting sse-starlette<1,>=0.10.3 (from fiftyone)\n",
      "  Using cached sse_starlette-0.10.3-py3-none-any.whl.metadata (4.3 kB)\n",
      "Requirement already satisfied: starlette>=0.24.0 in c:\\users\\omolp094\\appdata\\local\\programs\\python\\python311\\lib\\site-packages (from fiftyone) (0.37.2)\n",
      "Collecting strawberry-graphql (from fiftyone)\n",
      "  Using cached strawberry_graphql-0.256.1-py3-none-any.whl.metadata (7.5 kB)\n",
      "Requirement already satisfied: tabulate in c:\\users\\omolp094\\appdata\\local\\programs\\python\\python311\\lib\\site-packages (from fiftyone) (0.9.0)\n",
      "Requirement already satisfied: xmltodict in c:\\users\\omolp094\\appdata\\local\\programs\\python\\python311\\lib\\site-packages (from fiftyone) (0.14.2)\n",
      "Collecting universal-analytics-python3<2,>=1.0.1 (from fiftyone)\n",
      "  Using cached universal_analytics_python3-1.1.1-py3-none-any.whl.metadata (5.5 kB)\n",
      "Requirement already satisfied: pydash in c:\\users\\omolp094\\appdata\\local\\programs\\python\\python311\\lib\\site-packages (from fiftyone) (8.0.4)\n",
      "Collecting fiftyone-brain<0.19,>=0.18.2 (from fiftyone)\n",
      "  Using cached fiftyone_brain-0.18.2-py3-none-any.whl.metadata (4.6 kB)\n",
      "Collecting fiftyone-db<2.0,>=0.4 (from fiftyone)\n",
      "  Using cached fiftyone_db-1.1.7-py3-none-win_amd64.whl.metadata (1.2 kB)\n",
      "Collecting voxel51-eta<0.14,>=0.13.1 (from fiftyone)\n",
      "  Using cached voxel51_eta-0.13.1-py2.py3-none-any.whl.metadata (14 kB)\n",
      "Collecting opencv-python-headless (from fiftyone)\n",
      "  Using cached opencv_python_headless-4.10.0.84-cp37-abi3-win_amd64.whl.metadata (20 kB)\n",
      "Requirement already satisfied: h11 in c:\\users\\omolp094\\appdata\\local\\programs\\python\\python311\\lib\\site-packages (from hypercorn>=0.13.2->fiftyone) (0.14.0)\n",
      "Collecting h2>=3.1.0 (from hypercorn>=0.13.2->fiftyone)\n",
      "  Using cached h2-4.1.0-py3-none-any.whl.metadata (3.6 kB)\n",
      "Requirement already satisfied: priority in c:\\users\\omolp094\\appdata\\local\\programs\\python\\python311\\lib\\site-packages (from hypercorn>=0.13.2->fiftyone) (2.0.0)\n",
      "Requirement already satisfied: wsproto>=0.14.0 in c:\\users\\omolp094\\appdata\\local\\programs\\python\\python311\\lib\\site-packages (from hypercorn>=0.13.2->fiftyone) (1.2.0)\n",
      "Requirement already satisfied: MarkupSafe>=2.0 in c:\\users\\omolp094\\appdata\\local\\programs\\python\\python311\\lib\\site-packages (from Jinja2>=3->fiftyone) (2.1.3)\n",
      "Requirement already satisfied: tenacity>=6.2.0 in c:\\users\\omolp094\\appdata\\local\\programs\\python\\python311\\lib\\site-packages (from plotly>=4.14->fiftyone) (8.2.3)\n",
      "Collecting dnspython<3.0.0,>=1.16.0 (from pymongo~=4.9.2->fiftyone)\n",
      "  Using cached dnspython-2.7.0-py3-none-any.whl.metadata (5.8 kB)\n",
      "Requirement already satisfied: anyio<5,>=3.4.0 in c:\\users\\omolp094\\appdata\\local\\programs\\python\\python311\\lib\\site-packages (from starlette>=0.24.0->fiftyone) (3.7.1)\n",
      "Requirement already satisfied: httpx>=0.10.0 in c:\\users\\omolp094\\appdata\\local\\programs\\python\\python311\\lib\\site-packages (from universal-analytics-python3<2,>=1.0.1->fiftyone) (0.24.1)\n",
      "Requirement already satisfied: dill in c:\\users\\omolp094\\appdata\\local\\programs\\python\\python311\\lib\\site-packages (from voxel51-eta<0.14,>=0.13.1->fiftyone) (0.3.8)\n",
      "Requirement already satisfied: future in c:\\users\\omolp094\\appdata\\local\\programs\\python\\python311\\lib\\site-packages (from voxel51-eta<0.14,>=0.13.1->fiftyone) (0.18.3)\n",
      "Requirement already satisfied: glob2 in c:\\users\\omolp094\\appdata\\local\\programs\\python\\python311\\lib\\site-packages (from voxel51-eta<0.14,>=0.13.1->fiftyone) (0.7)\n",
      "Collecting jsonlines (from voxel51-eta<0.14,>=0.13.1->fiftyone)\n",
      "  Using cached jsonlines-4.0.0-py3-none-any.whl.metadata (1.6 kB)\n",
      "Collecting py7zr (from voxel51-eta<0.14,>=0.13.1->fiftyone)\n",
      "  Using cached py7zr-0.22.0-py3-none-any.whl.metadata (16 kB)\n",
      "Requirement already satisfied: python-dateutil in c:\\users\\omolp094\\appdata\\local\\programs\\python\\python311\\lib\\site-packages (from voxel51-eta<0.14,>=0.13.1->fiftyone) (2.8.2)\n",
      "Requirement already satisfied: rarfile in c:\\users\\omolp094\\appdata\\local\\programs\\python\\python311\\lib\\site-packages (from voxel51-eta<0.14,>=0.13.1->fiftyone) (4.2)\n",
      "Requirement already satisfied: requests in c:\\users\\omolp094\\appdata\\local\\programs\\python\\python311\\lib\\site-packages (from voxel51-eta<0.14,>=0.13.1->fiftyone) (2.32.3)\n",
      "Requirement already satisfied: six in c:\\users\\omolp094\\appdata\\local\\programs\\python\\python311\\lib\\site-packages (from voxel51-eta<0.14,>=0.13.1->fiftyone) (1.16.0)\n",
      "Requirement already satisfied: sortedcontainers in c:\\users\\omolp094\\appdata\\local\\programs\\python\\python311\\lib\\site-packages (from voxel51-eta<0.14,>=0.13.1->fiftyone) (2.4.0)\n",
      "Requirement already satisfied: tzlocal in c:\\users\\omolp094\\appdata\\local\\programs\\python\\python311\\lib\\site-packages (from voxel51-eta<0.14,>=0.13.1->fiftyone) (4.3.1)\n",
      "Requirement already satisfied: urllib3 in c:\\users\\omolp094\\appdata\\local\\programs\\python\\python311\\lib\\site-packages (from voxel51-eta<0.14,>=0.13.1->fiftyone) (1.26.20)\n",
      "Requirement already satisfied: soupsieve>1.2 in c:\\users\\omolp094\\appdata\\local\\programs\\python\\python311\\lib\\site-packages (from beautifulsoup4->fiftyone) (2.5)\n",
      "Requirement already satisfied: botocore<1.32.0,>=1.31.68 in c:\\users\\omolp094\\appdata\\local\\programs\\python\\python311\\lib\\site-packages (from boto3->fiftyone) (1.31.68)\n",
      "Requirement already satisfied: jmespath<2.0.0,>=0.7.1 in c:\\users\\omolp094\\appdata\\local\\programs\\python\\python311\\lib\\site-packages (from boto3->fiftyone) (1.0.1)\n",
      "Requirement already satisfied: s3transfer<0.8.0,>=0.7.0 in c:\\users\\omolp094\\appdata\\local\\programs\\python\\python311\\lib\\site-packages (from boto3->fiftyone) (0.7.0)\n",
      "Requirement already satisfied: wrapt<2,>=1.10 in c:\\users\\omolp094\\appdata\\local\\programs\\python\\python311\\lib\\site-packages (from Deprecated->fiftyone) (1.14.1)\n",
      "Requirement already satisfied: wcwidth>=0.2.5 in c:\\users\\omolp094\\appdata\\roaming\\python\\python311\\site-packages (from ftfy->fiftyone) (0.2.6)\n",
      "Requirement already satisfied: contourpy>=1.0.1 in c:\\users\\omolp094\\appdata\\local\\programs\\python\\python311\\lib\\site-packages (from matplotlib->fiftyone) (1.0.7)\n",
      "Requirement already satisfied: cycler>=0.10 in c:\\users\\omolp094\\appdata\\local\\programs\\python\\python311\\lib\\site-packages (from matplotlib->fiftyone) (0.10.0)\n",
      "Requirement already satisfied: fonttools>=4.22.0 in c:\\users\\omolp094\\appdata\\local\\programs\\python\\python311\\lib\\site-packages (from matplotlib->fiftyone) (4.39.4)\n",
      "Requirement already satisfied: kiwisolver>=1.3.1 in c:\\users\\omolp094\\appdata\\local\\programs\\python\\python311\\lib\\site-packages (from matplotlib->fiftyone) (1.4.4)\n",
      "Requirement already satisfied: pyparsing>=2.3.1 in c:\\users\\omolp094\\appdata\\local\\programs\\python\\python311\\lib\\site-packages (from matplotlib->fiftyone) (3.0.9)\n",
      "Requirement already satisfied: tzdata>=2022.1 in c:\\users\\omolp094\\appdata\\local\\programs\\python\\python311\\lib\\site-packages (from pandas->fiftyone) (2023.3)\n",
      "Requirement already satisfied: typing-extensions!=4.6.0,>3.10 in c:\\users\\omolp094\\appdata\\local\\programs\\python\\python311\\lib\\site-packages (from pydash->fiftyone) (4.11.0)\n",
      "Requirement already satisfied: networkx>=2.8 in c:\\users\\omolp094\\appdata\\local\\programs\\python\\python311\\lib\\site-packages (from scikit-image->fiftyone) (3.1)\n",
      "Requirement already satisfied: imageio>=2.27 in c:\\users\\omolp094\\appdata\\local\\programs\\python\\python311\\lib\\site-packages (from scikit-image->fiftyone) (2.31.2)\n",
      "Requirement already satisfied: tifffile>=2022.8.12 in c:\\users\\omolp094\\appdata\\local\\programs\\python\\python311\\lib\\site-packages (from scikit-image->fiftyone) (2023.8.25)\n",
      "Requirement already satisfied: PyWavelets>=1.1.1 in c:\\users\\omolp094\\appdata\\local\\programs\\python\\python311\\lib\\site-packages (from scikit-image->fiftyone) (1.4.1)\n",
      "Requirement already satisfied: lazy_loader>=0.2 in c:\\users\\omolp094\\appdata\\local\\programs\\python\\python311\\lib\\site-packages (from scikit-image->fiftyone) (0.3)\n",
      "Requirement already satisfied: joblib>=1.1.1 in c:\\users\\omolp094\\appdata\\local\\programs\\python\\python311\\lib\\site-packages (from scikit-learn->fiftyone) (1.3.2)\n",
      "Requirement already satisfied: threadpoolctl>=2.0.0 in c:\\users\\omolp094\\appdata\\local\\programs\\python\\python311\\lib\\site-packages (from scikit-learn->fiftyone) (3.1.0)\n",
      "Collecting graphql-core<3.4.0,>=3.2.0 (from strawberry-graphql->fiftyone)\n",
      "  Using cached graphql_core-3.2.5-py3-none-any.whl.metadata (10 kB)\n",
      "Requirement already satisfied: idna>=2.8 in c:\\users\\omolp094\\appdata\\local\\programs\\python\\python311\\lib\\site-packages (from anyio<5,>=3.4.0->starlette>=0.24.0->fiftyone) (3.6)\n",
      "Requirement already satisfied: sniffio>=1.1 in c:\\users\\omolp094\\appdata\\local\\programs\\python\\python311\\lib\\site-packages (from anyio<5,>=3.4.0->starlette>=0.24.0->fiftyone) (1.3.0)\n",
      "Collecting hyperframe<7,>=6.0 (from h2>=3.1.0->hypercorn>=0.13.2->fiftyone)\n",
      "  Using cached hyperframe-6.0.1-py3-none-any.whl.metadata (2.7 kB)\n",
      "Collecting hpack<5,>=4.0 (from h2>=3.1.0->hypercorn>=0.13.2->fiftyone)\n",
      "  Using cached hpack-4.0.0-py3-none-any.whl.metadata (2.5 kB)\n",
      "Requirement already satisfied: certifi in c:\\users\\omolp094\\appdata\\local\\programs\\python\\python311\\lib\\site-packages (from httpx>=0.10.0->universal-analytics-python3<2,>=1.0.1->fiftyone) (2024.2.2)\n",
      "Requirement already satisfied: httpcore<0.18.0,>=0.15.0 in c:\\users\\omolp094\\appdata\\local\\programs\\python\\python311\\lib\\site-packages (from httpx>=0.10.0->universal-analytics-python3<2,>=1.0.1->fiftyone) (0.17.3)\n",
      "Requirement already satisfied: attrs>=19.2.0 in c:\\users\\omolp094\\appdata\\local\\programs\\python\\python311\\lib\\site-packages (from jsonlines->voxel51-eta<0.14,>=0.13.1->fiftyone) (23.1.0)\n",
      "Requirement already satisfied: texttable in c:\\users\\omolp094\\appdata\\local\\programs\\python\\python311\\lib\\site-packages (from py7zr->voxel51-eta<0.14,>=0.13.1->fiftyone) (1.7.0)\n",
      "Requirement already satisfied: pycryptodomex>=3.16.0 in c:\\users\\omolp094\\appdata\\local\\programs\\python\\python311\\lib\\site-packages (from py7zr->voxel51-eta<0.14,>=0.13.1->fiftyone) (3.21.0)\n",
      "Requirement already satisfied: pyzstd>=0.15.9 in c:\\users\\omolp094\\appdata\\local\\programs\\python\\python311\\lib\\site-packages (from py7zr->voxel51-eta<0.14,>=0.13.1->fiftyone) (0.16.2)\n",
      "Requirement already satisfied: pyppmd<1.2.0,>=1.1.0 in c:\\users\\omolp094\\appdata\\local\\programs\\python\\python311\\lib\\site-packages (from py7zr->voxel51-eta<0.14,>=0.13.1->fiftyone) (1.1.1)\n",
      "Requirement already satisfied: pybcj<1.1.0,>=1.0.0 in c:\\users\\omolp094\\appdata\\local\\programs\\python\\python311\\lib\\site-packages (from py7zr->voxel51-eta<0.14,>=0.13.1->fiftyone) (1.0.3)\n",
      "Collecting multivolumefile>=0.2.3 (from py7zr->voxel51-eta<0.14,>=0.13.1->fiftyone)\n",
      "  Using cached multivolumefile-0.2.3-py3-none-any.whl.metadata (6.3 kB)\n",
      "Collecting inflate64<1.1.0,>=1.0.0 (from py7zr->voxel51-eta<0.14,>=0.13.1->fiftyone)\n",
      "  Using cached inflate64-1.0.1-cp311-cp311-win_amd64.whl.metadata (3.9 kB)\n",
      "Requirement already satisfied: brotli>=1.1.0 in c:\\users\\omolp094\\appdata\\local\\programs\\python\\python311\\lib\\site-packages (from py7zr->voxel51-eta<0.14,>=0.13.1->fiftyone) (1.1.0)\n",
      "Requirement already satisfied: charset-normalizer<4,>=2 in c:\\users\\omolp094\\appdata\\local\\programs\\python\\python311\\lib\\site-packages (from requests->voxel51-eta<0.14,>=0.13.1->fiftyone) (3.3.2)\n",
      "Requirement already satisfied: pytz-deprecation-shim in c:\\users\\omolp094\\appdata\\local\\programs\\python\\python311\\lib\\site-packages (from tzlocal->voxel51-eta<0.14,>=0.13.1->fiftyone) (0.1.0.post0)\n",
      "Using cached fiftyone-1.2.0-py3-none-any.whl (10.4 MB)\n",
      "Using cached dacite-1.7.0-py3-none-any.whl (12 kB)\n",
      "Using cached fiftyone_brain-0.18.2-py3-none-any.whl (99 kB)\n",
      "Using cached fiftyone_db-1.1.7-py3-none-win_amd64.whl (20.1 MB)\n",
      "Using cached hypercorn-0.17.3-py3-none-any.whl (61 kB)\n",
      "Using cached mongoengine-0.29.1-py3-none-any.whl (112 kB)\n",
      "Using cached motor-3.6.0-py3-none-any.whl (74 kB)\n",
      "Using cached pymongo-4.9.2-cp311-cp311-win_amd64.whl (874 kB)\n",
      "Using cached sse_starlette-0.10.3-py3-none-any.whl (8.0 kB)\n",
      "Using cached universal_analytics_python3-1.1.1-py3-none-any.whl (10 kB)\n",
      "Using cached voxel51_eta-0.13.1-py2.py3-none-any.whl (942 kB)\n",
      "Using cached opencv_python_headless-4.10.0.84-cp37-abi3-win_amd64.whl (38.8 MB)\n",
      "Using cached argcomplete-3.5.2-py3-none-any.whl (43 kB)\n",
      "Using cached humanize-4.11.0-py3-none-any.whl (128 kB)\n",
      "Using cached strawberry_graphql-0.256.1-py3-none-any.whl (295 kB)\n",
      "Using cached dnspython-2.7.0-py3-none-any.whl (313 kB)\n",
      "Using cached graphql_core-3.2.5-py3-none-any.whl (203 kB)\n",
      "Using cached h2-4.1.0-py3-none-any.whl (57 kB)\n",
      "Using cached jsonlines-4.0.0-py3-none-any.whl (8.7 kB)\n",
      "Using cached py7zr-0.22.0-py3-none-any.whl (67 kB)\n",
      "Using cached hpack-4.0.0-py3-none-any.whl (32 kB)\n",
      "Using cached hyperframe-6.0.1-py3-none-any.whl (12 kB)\n",
      "Using cached inflate64-1.0.1-cp311-cp311-win_amd64.whl (35 kB)\n",
      "Using cached multivolumefile-0.2.3-py3-none-any.whl (17 kB)\n",
      "Installing collected packages: opencv-python-headless, multivolumefile, jsonlines, inflate64, hyperframe, humanize, hpack, graphql-core, fiftyone-db, dnspython, dacite, argcomplete, strawberry-graphql, pymongo, py7zr, h2, voxel51-eta, sse-starlette, motor, mongoengine, hypercorn, fiftyone-brain, universal-analytics-python3, fiftyone\n",
      "Successfully installed argcomplete-3.5.2 dacite-1.7.0 dnspython-2.7.0 fiftyone-1.2.0 fiftyone-brain-0.18.2 fiftyone-db-1.1.7 graphql-core-3.2.5 h2-4.1.0 hpack-4.0.0 humanize-4.11.0 hypercorn-0.17.3 hyperframe-6.0.1 inflate64-1.0.1 jsonlines-4.0.0 mongoengine-0.29.1 motor-3.6.0 multivolumefile-0.2.3 opencv-python-headless-4.10.0.84 py7zr-0.22.0 pymongo-4.9.2 sse-starlette-0.10.3 strawberry-graphql-0.256.1 universal-analytics-python3-1.1.1 voxel51-eta-0.13.1\n"
     ]
    },
    {
     "name": "stderr",
     "output_type": "stream",
     "text": [
      "DEPRECATION: Loading egg at c:\\users\\omolp094\\appdata\\local\\programs\\python\\python311\\lib\\site-packages\\pybluez-0.30-py3.11-win-amd64.egg is deprecated. pip 24.3 will enforce this behaviour change. A possible replacement is to use pip for package installation. Discussion can be found at https://github.com/pypa/pip/issues/12330\n",
      "DEPRECATION: Loading egg at c:\\users\\omolp094\\appdata\\local\\programs\\python\\python311\\lib\\site-packages\\sleeppy-0.2.21-py3.11.egg is deprecated. pip 24.3 will enforce this behaviour change. A possible replacement is to use pip for package installation. Discussion can be found at https://github.com/pypa/pip/issues/12330\n",
      "ERROR: pip's dependency resolver does not currently take into account all the packages that are installed. This behaviour is the source of the following dependency conflicts.\n",
      "roboflow 1.1.19 requires certifi==2023.7.22, but you have certifi 2024.2.2 which is incompatible.\n",
      "roboflow 1.1.19 requires chardet==4.0.0, but you have chardet 5.2.0 which is incompatible.\n",
      "roboflow 1.1.19 requires idna==2.10, but you have idna 3.6 which is incompatible.\n",
      "roboflow 1.1.19 requires opencv-python-headless==4.8.0.74, but you have opencv-python-headless 4.10.0.84 which is incompatible.\n",
      "\n",
      "[notice] A new release of pip is available: 24.1.2 -> 24.3.1\n",
      "[notice] To update, run: python.exe -m pip install --upgrade pip\n"
     ]
    }
   ],
   "source": [
    "!pip install --upgrade --user fiftyone"
   ]
  },
  {
   "cell_type": "code",
   "execution_count": 7,
   "metadata": {},
   "outputs": [
    {
     "name": "stdout",
     "output_type": "stream",
     "text": [
      "Downloading split 'validation' to 'C:\\Users\\OMOLP094\\fiftyone\\open-images-v7\\validation' if necessary\n",
      "Downloading 'https://storage.googleapis.com/openimages/2018_04/validation/validation-images-with-rotation.csv' to 'C:\\Users\\OMOLP094\\fiftyone\\open-images-v7\\validation\\metadata\\image_ids.csv'\n",
      "Downloading 'https://storage.googleapis.com/openimages/v5/class-descriptions-boxable.csv' to 'C:\\Users\\OMOLP094\\fiftyone\\open-images-v7\\validation\\metadata\\classes.csv'\n",
      "Downloading 'https://storage.googleapis.com/openimages/v5/classes-segmentation.txt' to 'C:\\Users\\OMOLP094\\fiftyone\\open-images-v7\\validation\\metadata\\segmentation_classes.csv'\n",
      "Downloading 'https://storage.googleapis.com/openimages/v7/oidv7-class-descriptions.csv' to 'C:\\Users\\OMOLP094\\fiftyone\\open-images-v7\\validation\\metadata\\point_classes.csv'\n",
      "Downloading 'https://storage.googleapis.com/openimages/2018_04/bbox_labels_600_hierarchy.json' to 'C:\\Users\\OMOLP094\\AppData\\Local\\Temp\\tmpjxtinu9r\\metadata\\hierarchy.json'\n",
      "Downloading 'https://storage.googleapis.com/openimages/v5/validation-annotations-bbox.csv' to 'C:\\Users\\OMOLP094\\fiftyone\\open-images-v7\\validation\\labels\\detections.csv'\n",
      "Downloading 'https://storage.googleapis.com/openimages/v7/oidv7-val-annotations-point-labels.csv' to 'C:\\Users\\OMOLP094\\fiftyone\\open-images-v7\\validation\\labels\\points.csv'\n",
      "Downloading 'https://storage.googleapis.com/openimages/v5/validation-annotations-object-segmentation.csv' to 'C:\\Users\\OMOLP094\\fiftyone\\open-images-v7\\validation\\labels\\segmentations.csv'\n",
      "Downloading 100 images\n",
      " 100% |███████████████████| 100/100 [13.6s elapsed, 0s remaining, 5.6 files/s]      \n",
      "Dataset info written to 'C:\\Users\\OMOLP094\\fiftyone\\open-images-v7\\info.json'\n",
      "Loading 'open-images-v7' split 'validation'\n",
      " 100% |█████████████████| 100/100 [5.7s elapsed, 0s remaining, 16.6 samples/s]      \n",
      "Dataset 'open-images-v7-validation-100' created\n"
     ]
    }
   ],
   "source": [
    "import fiftyone\n",
    "\n",
    "dataset = fiftyone.zoo.load_zoo_dataset(\n",
    "              \"open-images-v7\",\n",
    "              split=\"validation\",\n",
    "              label_types=[\"detections\", \"segmentations\", \"points\"],\n",
    "              classes=[\"Cat\", \"Dog\"],\n",
    "              max_samples=100,\n",
    "          )"
   ]
  },
  {
   "cell_type": "code",
   "execution_count": 8,
   "metadata": {},
   "outputs": [
    {
     "name": "stdout",
     "output_type": "stream",
     "text": [
      "Downloading dataset to 'C:\\Users\\OMOLP094\\fiftyone\\quickstart'\n",
      "Downloading dataset...\n",
      "                                                                           100% |████|  187.5Mb/187.5Mb [2.6s elapsed, 0s remaining, 68.3Mb/s]      \n",
      "Extracting dataset...\n",
      "Parsing dataset metadata\n",
      "Found 200 samples\n",
      "Dataset info written to 'C:\\Users\\OMOLP094\\fiftyone\\quickstart\\info.json'\n",
      "Loading 'quickstart'\n",
      " 100% |█████████████████| 200/200 [10.6s elapsed, 0s remaining, 29.4 samples/s]      \n",
      "Dataset 'quickstart' created\n",
      "\n",
      "Could not connect session, trying again in 10 seconds\n",
      "\n"
     ]
    },
    {
     "ename": "RuntimeError",
     "evalue": "Client is not connected",
     "output_type": "error",
     "traceback": [
      "\u001b[1;31m---------------------------------------------------------------------------\u001b[0m",
      "\u001b[1;31mRuntimeError\u001b[0m                              Traceback (most recent call last)",
      "Cell \u001b[1;32mIn[8], line 5\u001b[0m\n\u001b[0;32m      2\u001b[0m \u001b[38;5;28;01mimport\u001b[39;00m \u001b[38;5;21;01mfiftyone\u001b[39;00m\u001b[38;5;21;01m.\u001b[39;00m\u001b[38;5;21;01mzoo\u001b[39;00m \u001b[38;5;28;01mas\u001b[39;00m \u001b[38;5;21;01mfoz\u001b[39;00m\n\u001b[0;32m      4\u001b[0m dataset \u001b[38;5;241m=\u001b[39m foz\u001b[38;5;241m.\u001b[39mload_zoo_dataset(\u001b[38;5;124m\"\u001b[39m\u001b[38;5;124mquickstart\u001b[39m\u001b[38;5;124m\"\u001b[39m)\n\u001b[1;32m----> 5\u001b[0m session \u001b[38;5;241m=\u001b[39m \u001b[43mfo\u001b[49m\u001b[38;5;241;43m.\u001b[39;49m\u001b[43mlaunch_app\u001b[49m\u001b[43m(\u001b[49m\u001b[43mdataset\u001b[49m\u001b[43m)\u001b[49m\n",
      "File \u001b[1;32m~\\AppData\\Roaming\\Python\\Python311\\site-packages\\fiftyone\\core\\session\\session.py:192\u001b[0m, in \u001b[0;36mlaunch_app\u001b[1;34m(dataset, view, sample_id, group_id, spaces, color_scheme, plots, port, address, remote, browser, height, auto, config)\u001b[0m\n\u001b[0;32m    149\u001b[0m \u001b[38;5;250m\u001b[39m\u001b[38;5;124;03m\"\"\"Launches the FiftyOne App.\u001b[39;00m\n\u001b[0;32m    150\u001b[0m \n\u001b[0;32m    151\u001b[0m \u001b[38;5;124;03mNote that only one App instance can be opened at a time. If this method is\u001b[39;00m\n\u001b[1;32m   (...)\u001b[0m\n\u001b[0;32m    189\u001b[0m \u001b[38;5;124;03m    a :class:`Session`\u001b[39;00m\n\u001b[0;32m    190\u001b[0m \u001b[38;5;124;03m\"\"\"\u001b[39;00m\n\u001b[0;32m    191\u001b[0m \u001b[38;5;28;01mglobal\u001b[39;00m _session  \u001b[38;5;66;03m# pylint: disable=global-statement\u001b[39;00m\n\u001b[1;32m--> 192\u001b[0m _session \u001b[38;5;241m=\u001b[39m \u001b[43mSession\u001b[49m\u001b[43m(\u001b[49m\n\u001b[0;32m    193\u001b[0m \u001b[43m    \u001b[49m\u001b[43mdataset\u001b[49m\u001b[38;5;241;43m=\u001b[39;49m\u001b[43mdataset\u001b[49m\u001b[43m,\u001b[49m\n\u001b[0;32m    194\u001b[0m \u001b[43m    \u001b[49m\u001b[43mview\u001b[49m\u001b[38;5;241;43m=\u001b[39;49m\u001b[43mview\u001b[49m\u001b[43m,\u001b[49m\n\u001b[0;32m    195\u001b[0m \u001b[43m    \u001b[49m\u001b[43msample_id\u001b[49m\u001b[38;5;241;43m=\u001b[39;49m\u001b[43msample_id\u001b[49m\u001b[43m,\u001b[49m\n\u001b[0;32m    196\u001b[0m \u001b[43m    \u001b[49m\u001b[43mgroup_id\u001b[49m\u001b[38;5;241;43m=\u001b[39;49m\u001b[43mgroup_id\u001b[49m\u001b[43m,\u001b[49m\n\u001b[0;32m    197\u001b[0m \u001b[43m    \u001b[49m\u001b[43mspaces\u001b[49m\u001b[38;5;241;43m=\u001b[39;49m\u001b[43mspaces\u001b[49m\u001b[43m,\u001b[49m\n\u001b[0;32m    198\u001b[0m \u001b[43m    \u001b[49m\u001b[43mcolor_scheme\u001b[49m\u001b[38;5;241;43m=\u001b[39;49m\u001b[43mcolor_scheme\u001b[49m\u001b[43m,\u001b[49m\n\u001b[0;32m    199\u001b[0m \u001b[43m    \u001b[49m\u001b[43mplots\u001b[49m\u001b[38;5;241;43m=\u001b[39;49m\u001b[43mplots\u001b[49m\u001b[43m,\u001b[49m\n\u001b[0;32m    200\u001b[0m \u001b[43m    \u001b[49m\u001b[43mport\u001b[49m\u001b[38;5;241;43m=\u001b[39;49m\u001b[43mport\u001b[49m\u001b[43m,\u001b[49m\n\u001b[0;32m    201\u001b[0m \u001b[43m    \u001b[49m\u001b[43maddress\u001b[49m\u001b[38;5;241;43m=\u001b[39;49m\u001b[43maddress\u001b[49m\u001b[43m,\u001b[49m\n\u001b[0;32m    202\u001b[0m \u001b[43m    \u001b[49m\u001b[43mremote\u001b[49m\u001b[38;5;241;43m=\u001b[39;49m\u001b[43mremote\u001b[49m\u001b[43m,\u001b[49m\n\u001b[0;32m    203\u001b[0m \u001b[43m    \u001b[49m\u001b[43mbrowser\u001b[49m\u001b[38;5;241;43m=\u001b[39;49m\u001b[43mbrowser\u001b[49m\u001b[43m,\u001b[49m\n\u001b[0;32m    204\u001b[0m \u001b[43m    \u001b[49m\u001b[43mheight\u001b[49m\u001b[38;5;241;43m=\u001b[39;49m\u001b[43mheight\u001b[49m\u001b[43m,\u001b[49m\n\u001b[0;32m    205\u001b[0m \u001b[43m    \u001b[49m\u001b[43mauto\u001b[49m\u001b[38;5;241;43m=\u001b[39;49m\u001b[43mauto\u001b[49m\u001b[43m,\u001b[49m\n\u001b[0;32m    206\u001b[0m \u001b[43m    \u001b[49m\u001b[43mconfig\u001b[49m\u001b[38;5;241;43m=\u001b[39;49m\u001b[43mconfig\u001b[49m\u001b[43m,\u001b[49m\n\u001b[0;32m    207\u001b[0m \u001b[43m\u001b[49m\u001b[43m)\u001b[49m\n\u001b[0;32m    209\u001b[0m \u001b[38;5;28;01mif\u001b[39;00m _session\u001b[38;5;241m.\u001b[39mremote:\n\u001b[0;32m    210\u001b[0m     logger\u001b[38;5;241m.\u001b[39minfo(_REMOTE_INSTRUCTIONS\u001b[38;5;241m.\u001b[39mstrip()\u001b[38;5;241m.\u001b[39mformat(_session\u001b[38;5;241m.\u001b[39mserver_port))\n",
      "File \u001b[1;32m~\\AppData\\Roaming\\Python\\Python311\\site-packages\\fiftyone\\core\\session\\session.py:435\u001b[0m, in \u001b[0;36mSession.__init__\u001b[1;34m(self, dataset, view, sample_id, group_id, spaces, color_scheme, plots, port, address, remote, browser, height, auto, config, view_name)\u001b[0m\n\u001b[0;32m    432\u001b[0m _register_session(\u001b[38;5;28mself\u001b[39m)\n\u001b[0;32m    434\u001b[0m \u001b[38;5;28;01mif\u001b[39;00m \u001b[38;5;28mself\u001b[39m\u001b[38;5;241m.\u001b[39mauto \u001b[38;5;129;01mand\u001b[39;00m focx\u001b[38;5;241m.\u001b[39mis_notebook_context():\n\u001b[1;32m--> 435\u001b[0m     \u001b[38;5;28;43mself\u001b[39;49m\u001b[38;5;241;43m.\u001b[39;49m\u001b[43mshow\u001b[49m\u001b[43m(\u001b[49m\u001b[43mheight\u001b[49m\u001b[38;5;241;43m=\u001b[39;49m\u001b[43mconfig\u001b[49m\u001b[38;5;241;43m.\u001b[39;49m\u001b[43mnotebook_height\u001b[49m\u001b[43m)\u001b[49m\n\u001b[0;32m    437\u001b[0m \u001b[38;5;28mself\u001b[39m\u001b[38;5;241m.\u001b[39mbrowser \u001b[38;5;241m=\u001b[39m browser\n\u001b[0;32m    439\u001b[0m \u001b[38;5;28;01mif\u001b[39;00m \u001b[38;5;28mself\u001b[39m\u001b[38;5;241m.\u001b[39mremote:\n",
      "File \u001b[1;32m~\\AppData\\Roaming\\Python\\Python311\\site-packages\\fiftyone\\core\\session\\session.py:251\u001b[0m, in \u001b[0;36mupdate_state.<locals>.decorator.<locals>.wrapper\u001b[1;34m(session, *args, **kwargs)\u001b[0m\n\u001b[0;32m    249\u001b[0m \u001b[38;5;28;01mif\u001b[39;00m auto_show \u001b[38;5;129;01mand\u001b[39;00m session\u001b[38;5;241m.\u001b[39mauto \u001b[38;5;129;01mand\u001b[39;00m focx\u001b[38;5;241m.\u001b[39mis_notebook_context():\n\u001b[0;32m    250\u001b[0m     session\u001b[38;5;241m.\u001b[39mfreeze()\n\u001b[1;32m--> 251\u001b[0m result \u001b[38;5;241m=\u001b[39m \u001b[43mfunc\u001b[49m\u001b[43m(\u001b[49m\u001b[43msession\u001b[49m\u001b[43m,\u001b[49m\u001b[43m \u001b[49m\u001b[38;5;241;43m*\u001b[39;49m\u001b[43margs\u001b[49m\u001b[43m,\u001b[49m\u001b[43m \u001b[49m\u001b[38;5;241;43m*\u001b[39;49m\u001b[38;5;241;43m*\u001b[39;49m\u001b[43mkwargs\u001b[49m\u001b[43m)\u001b[49m\n\u001b[0;32m    252\u001b[0m session\u001b[38;5;241m.\u001b[39m_client\u001b[38;5;241m.\u001b[39msend_event(StateUpdate(state\u001b[38;5;241m=\u001b[39msession\u001b[38;5;241m.\u001b[39m_state))\n\u001b[0;32m    253\u001b[0m \u001b[38;5;28;01mif\u001b[39;00m auto_show \u001b[38;5;129;01mand\u001b[39;00m session\u001b[38;5;241m.\u001b[39mauto \u001b[38;5;129;01mand\u001b[39;00m focx\u001b[38;5;241m.\u001b[39mis_notebook_context():\n",
      "File \u001b[1;32m~\\AppData\\Roaming\\Python\\Python311\\site-packages\\fiftyone\\core\\session\\session.py:1060\u001b[0m, in \u001b[0;36mSession.show\u001b[1;34m(self, height)\u001b[0m\n\u001b[0;32m   1057\u001b[0m \u001b[38;5;28;01mif\u001b[39;00m \u001b[38;5;129;01mnot\u001b[39;00m focx\u001b[38;5;241m.\u001b[39mis_notebook_context():\n\u001b[0;32m   1058\u001b[0m     \u001b[38;5;28;01mreturn\u001b[39;00m\n\u001b[1;32m-> 1060\u001b[0m \u001b[38;5;28;43mself\u001b[39;49m\u001b[38;5;241;43m.\u001b[39;49m\u001b[43mfreeze\u001b[49m\u001b[43m(\u001b[49m\u001b[43m)\u001b[49m\n\u001b[0;32m   1061\u001b[0m \u001b[38;5;28;01mif\u001b[39;00m \u001b[38;5;28mself\u001b[39m\u001b[38;5;241m.\u001b[39mdataset \u001b[38;5;129;01mis\u001b[39;00m \u001b[38;5;129;01mnot\u001b[39;00m \u001b[38;5;28;01mNone\u001b[39;00m:\n\u001b[0;32m   1062\u001b[0m     \u001b[38;5;28mself\u001b[39m\u001b[38;5;241m.\u001b[39mdataset\u001b[38;5;241m.\u001b[39m_reload()\n",
      "File \u001b[1;32m~\\AppData\\Roaming\\Python\\Python311\\site-packages\\fiftyone\\core\\session\\session.py:1153\u001b[0m, in \u001b[0;36mSession.freeze\u001b[1;34m(self)\u001b[0m\n\u001b[0;32m   1150\u001b[0m     logger\u001b[38;5;241m.\u001b[39mwarning(\u001b[38;5;124m\"\u001b[39m\u001b[38;5;124mOnly notebook sessions can be frozen\u001b[39m\u001b[38;5;124m\"\u001b[39m)\n\u001b[0;32m   1151\u001b[0m     \u001b[38;5;28;01mreturn\u001b[39;00m\n\u001b[1;32m-> 1153\u001b[0m \u001b[38;5;28;43mself\u001b[39;49m\u001b[38;5;241;43m.\u001b[39;49m\u001b[43m_client\u001b[49m\u001b[38;5;241;43m.\u001b[39;49m\u001b[43msend_event\u001b[49m\u001b[43m(\u001b[49m\u001b[43mDeactivateNotebookCell\u001b[49m\u001b[43m(\u001b[49m\u001b[43m)\u001b[49m\u001b[43m)\u001b[49m\n\u001b[0;32m   1154\u001b[0m \u001b[38;5;28mself\u001b[39m\u001b[38;5;241m.\u001b[39mplots\u001b[38;5;241m.\u001b[39mfreeze()\n",
      "File \u001b[1;32m~\\AppData\\Roaming\\Python\\Python311\\site-packages\\fiftyone\\core\\session\\client.py:153\u001b[0m, in \u001b[0;36mClient.send_event\u001b[1;34m(self, event)\u001b[0m\n\u001b[0;32m    150\u001b[0m     \u001b[38;5;28;01mreturn\u001b[39;00m\n\u001b[0;32m    152\u001b[0m \u001b[38;5;28;01mif\u001b[39;00m \u001b[38;5;129;01mnot\u001b[39;00m \u001b[38;5;28mself\u001b[39m\u001b[38;5;241m.\u001b[39m_connected:\n\u001b[1;32m--> 153\u001b[0m     \u001b[38;5;28;01mraise\u001b[39;00m \u001b[38;5;167;01mRuntimeError\u001b[39;00m(\u001b[38;5;124m\"\u001b[39m\u001b[38;5;124mClient is not connected\u001b[39m\u001b[38;5;124m\"\u001b[39m)\n\u001b[0;32m    155\u001b[0m \u001b[38;5;28mself\u001b[39m\u001b[38;5;241m.\u001b[39m_post_event(event)\n\u001b[0;32m    156\u001b[0m \u001b[38;5;28mself\u001b[39m\u001b[38;5;241m.\u001b[39m_dispatch_event(event)\n",
      "\u001b[1;31mRuntimeError\u001b[0m: Client is not connected"
     ]
    }
   ],
   "source": [
    "import fiftyone as fo\n",
    "import fiftyone.zoo as foz\n",
    "\n",
    "dataset = foz.load_zoo_dataset(\"quickstart\")\n",
    "session = fo.launch_app(dataset)"
   ]
  },
  {
   "cell_type": "code",
   "execution_count": 9,
   "metadata": {},
   "outputs": [
    {
     "name": "stdout",
     "output_type": "stream",
     "text": [
      "Downloading split 'validation' to 'C:\\Users\\OMOLP094\\fiftyone\\open-images-v7\\validation' if necessary\n",
      "Necessary images already downloaded\n",
      "Existing download of split 'validation' is sufficient\n",
      "Loading existing dataset 'open-images-v7-validation-100'. To reload from disk, either delete the existing dataset or provide a custom `dataset_name` to use\n"
     ]
    }
   ],
   "source": [
    "import fiftyone\n",
    "\n",
    "dataset = fiftyone.zoo.load_zoo_dataset(\n",
    "    \"open-images-v7\",\n",
    "    split=\"validation\",\n",
    "    label_types=[\"detections\", \"segmentations\", \"points\"],\n",
    "    classes=[\"Cat\", \"Dog\"],\n",
    "    max_samples=100,\n",
    "    dataset_dir=r\"C:\\Users\\OMOLP094\\Desktop\\WORK_FROM_NOV_2024\\obstacle_detection_swimmers_open_waters\\datasets_downloaded_with_fifty_one\"  \n",
    ")\n"
   ]
  },
  {
   "cell_type": "code",
   "execution_count": null,
   "metadata": {},
   "outputs": [],
   "source": []
  }
 ],
 "metadata": {
  "kernelspec": {
   "display_name": "Python 3",
   "language": "python",
   "name": "python3"
  },
  "language_info": {
   "codemirror_mode": {
    "name": "ipython",
    "version": 3
   },
   "file_extension": ".py",
   "mimetype": "text/x-python",
   "name": "python",
   "nbconvert_exporter": "python",
   "pygments_lexer": "ipython3",
   "version": "3.11.3"
  }
 },
 "nbformat": 4,
 "nbformat_minor": 2
}
